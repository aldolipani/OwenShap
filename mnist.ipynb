{
 "cells": [
  {
   "cell_type": "code",
   "execution_count": 1,
   "metadata": {
    "pycharm": {
     "name": "#%%\n"
    }
   },
   "outputs": [],
   "source": [
    "import time\n",
    "\n",
    "import os\n",
    "import numpy as np\n",
    "import matplotlib.pyplot as plt\n",
    "import tensorflow as tf\n",
    "from tqdm import tqdm\n",
    "\n",
    "from models import MLP\n",
    "from shaps import *\n",
    "from utils import mc_mlp_val, plot_examples_in_a_row, variance_analysis\n",
    "\n",
    "np.random.seed(3)\n",
    "os.environ['CUDA_VISIBLE_DEVICES']='1'"
   ]
  },
  {
   "cell_type": "markdown",
   "metadata": {},
   "source": [
    "## Preprocessing\n",
    "\n",
    "Download and perform some basic preprocessing to the dataset."
   ]
  },
  {
   "cell_type": "code",
   "execution_count": 2,
   "metadata": {},
   "outputs": [],
   "source": [
    "n_features = 28*28\n",
    "\n",
    "(x_train, y_train), (x_test, y_test) = tf.keras.datasets.mnist.load_data()\n",
    "\n",
    "x_train = x_train.reshape(x_train.shape[0], n_features)\n",
    "x_test = x_test.reshape(x_test.shape[0], n_features)"
   ]
  },
  {
   "cell_type": "markdown",
   "metadata": {
    "pycharm": {
     "name": "#%% md\n"
    }
   },
   "source": [
    "Feature normalization."
   ]
  },
  {
   "cell_type": "code",
   "execution_count": 3,
   "metadata": {
    "pycharm": {
     "name": "#%%\n"
    }
   },
   "outputs": [],
   "source": [
    "x_train = x_train/255\n",
    "x_test = x_test/255"
   ]
  },
  {
   "cell_type": "markdown",
   "metadata": {},
   "source": [
    "For convenience we add a bias column to the dataset."
   ]
  },
  {
   "cell_type": "code",
   "execution_count": 4,
   "metadata": {
    "pycharm": {
     "name": "#%%\n"
    }
   },
   "outputs": [],
   "source": [
    "x_train = np.hstack((x_train, np.ones((x_train.shape[0],1))))\n",
    "x_test = np.hstack((x_test, np.ones((x_test.shape[0],1))))\n",
    "n_features += 1"
   ]
  },
  {
   "cell_type": "markdown",
   "metadata": {
    "pycharm": {
     "name": "#%% md\n"
    }
   },
   "source": [
    "## Validate MLP"
   ]
  },
  {
   "cell_type": "code",
   "execution_count": 5,
   "metadata": {
    "pycharm": {
     "is_executing": true,
     "name": "#%%\n"
    }
   },
   "outputs": [
    {
     "name": "stderr",
     "output_type": "stream",
     "text": [
      "100%|██████████| 1000/1000 [6:04:52<00:00, 21.89s/it]  "
     ]
    },
    {
     "name": "stdout",
     "output_type": "stream",
     "text": [
      "0.9770666666666667 (785, 450, 25, 10)\n"
     ]
    },
    {
     "name": "stderr",
     "output_type": "stream",
     "text": [
      "\n"
     ]
    }
   ],
   "source": [
    "hidden_layers = range(0, 4)\n",
    "nodes_hidden_layers = range(25, 500, 25)\n",
    "\n",
    "max_conf, max_acc = mc_mlp_val(x_train, y_train, n_features, hidden_layers, nodes_hidden_layers, 10)\n",
    "\n",
    "print(max_acc, max_conf)"
   ]
  },
  {
   "cell_type": "markdown",
   "metadata": {
    "pycharm": {
     "name": "#%% md\n"
    }
   },
   "source": [
    "## Train MLP\n",
    "\n",
    "Train and test the best MLP found by the validation procedure."
   ]
  },
  {
   "cell_type": "code",
   "execution_count": 6,
   "metadata": {
    "pycharm": {
     "name": "#%%\n"
    }
   },
   "outputs": [
    {
     "name": "stdout",
     "output_type": "stream",
     "text": [
      "34/34 [==============================] - 0s 3ms/step - loss: 0.0681 - accuracy: 0.9830\n"
     ]
    },
    {
     "data": {
      "text/plain": [
       "[0.0681378737936393, 0.983]"
      ]
     },
     "execution_count": 6,
     "metadata": {},
     "output_type": "execute_result"
    }
   ],
   "source": [
    "model = MLP(max_conf, use_bias_input=False)\n",
    "\n",
    "model.compile(optimizer='adam',\n",
    "              loss='sparse_categorical_crossentropy',\n",
    "              metrics=['accuracy'])\n",
    "\n",
    "history = model.fit(x_train, y_train, epochs=50, batch_size=300, validation_split=0, verbose=0)\n",
    "\n",
    "model.evaluate(x_test, y_test, batch_size=300)"
   ]
  },
  {
   "cell_type": "markdown",
   "metadata": {},
   "source": [
    "## Analysis of Variance\n",
    "\n",
    "Randomly select n examples from the test set. These will be used to compute the Shapely values."
   ]
  },
  {
   "cell_type": "code",
   "execution_count": 7,
   "metadata": {},
   "outputs": [],
   "source": [
    "n_examples = 50\n",
    "example_is = np.random.randint(0, len(x_test), n_examples)\n",
    "examples = x_test[example_is,:]"
   ]
  },
  {
   "cell_type": "markdown",
   "metadata": {},
   "source": [
    "Set the number of runs for all the Shapely methods.\n",
    "The equivalent number of runs will be computed for each method."
   ]
  },
  {
   "cell_type": "code",
   "execution_count": 8,
   "metadata": {
    "pycharm": {
     "name": "#%%\n"
    }
   },
   "outputs": [],
   "source": [
    "runs = 100\n",
    "runs_per_split = 2"
   ]
  },
  {
   "cell_type": "markdown",
   "metadata": {},
   "source": [
    "### Owen Sampling Halved"
   ]
  },
  {
   "cell_type": "code",
   "execution_count": 9,
   "metadata": {
    "pycharm": {
     "name": "#%%\n"
    }
   },
   "outputs": [
    {
     "name": "stderr",
     "output_type": "stream",
     "text": [
      "100%|██████████| 50/50 [2:55:30<00:00, 210.61s/it]  \n"
     ]
    }
   ],
   "source": [
    "avg_stds_owen_sam_shap_halved = \\\n",
    "    variance_analysis(model, \n",
    "                      examples,\n",
    "                      lambda e, m, y, i: owen_sam_shap_halved(e, m, y, runs=runs_per_split, q_splits=i),\n",
    "                      runs)"
   ]
  },
  {
   "cell_type": "markdown",
   "metadata": {
    "pycharm": {
     "name": "#%% md\n"
    }
   },
   "source": [
    "### Owen Sampling"
   ]
  },
  {
   "cell_type": "code",
   "execution_count": 10,
   "metadata": {
    "pycharm": {
     "name": "#%%\n"
    }
   },
   "outputs": [
    {
     "name": "stderr",
     "output_type": "stream",
     "text": [
      "100%|██████████| 50/50 [2:55:07<00:00, 210.16s/it]  \n"
     ]
    }
   ],
   "source": [
    "avg_stds_owen_sam_shap = \\\n",
    "    variance_analysis(model, \n",
    "                      examples, \n",
    "                      lambda e, m, y, i: owen_sam_shap(e, m, y, runs=runs_per_split, q_splits=i),\n",
    "                      runs)"
   ]
  },
  {
   "cell_type": "markdown",
   "metadata": {
    "pycharm": {
     "name": "#%% md\n"
    }
   },
   "source": [
    "### Castro Sampling"
   ]
  },
  {
   "cell_type": "code",
   "execution_count": 11,
   "metadata": {
    "pycharm": {
     "name": "#%%\n"
    }
   },
   "outputs": [
    {
     "name": "stderr",
     "output_type": "stream",
     "text": [
      "100%|██████████| 50/50 [4:06:01<00:00, 295.23s/it]  \n"
     ]
    }
   ],
   "source": [
    "avg_stds_castro_sam_shap = \\\n",
    "    variance_analysis(model, \n",
    "                      examples, \n",
    "                      lambda e, m, y, i: castro_sam_shap(e, m, y, runs=i*runs_per_split), \n",
    "                      runs)"
   ]
  },
  {
   "cell_type": "markdown",
   "metadata": {},
   "source": [
    "### Plot"
   ]
  },
  {
   "cell_type": "code",
   "execution_count": 12,
   "metadata": {
    "pycharm": {
     "name": "#%%\n"
    }
   },
   "outputs": [
    {
     "data": {
      "image/png": "[encoded data removed]",
      "text/plain": [
       "<Figure size 432x288 with 1 Axes>"
      ]
     },
     "metadata": {
      "needs_background": "light"
     },
     "output_type": "display_data"
    }
   ],
   "source": [
    "xs = list(np.arange(runs_per_split, (runs-1)*runs_per_split, step=runs_per_split))\n",
    "\n",
    "plt.plot(xs, avg_stds_castro_sam_shap[2:], 'black', label='Castro')\n",
    "plt.plot(xs, avg_stds_owen_sam_shap[2:], 'b--', label='Owen')\n",
    "plt.plot(xs, avg_stds_owen_sam_shap_halved[2:],'r--', label='Owen Halved')\n",
    "plt.xticks(([2] + list(np.arange(0, runs*runs_per_split+10, step=20)[1:])))\n",
    "plt.xlabel('samples')\n",
    "plt.ylabel('$\\\\sigma$')\n",
    "plt.legend()\n",
    "plt.savefig('imgs/variance_analysis_mnist.png', dpi=600)"
   ]
  },
  {
   "cell_type": "markdown",
   "metadata": {
    "pycharm": {
     "name": "#%% md\n"
    }
   },
   "source": [
    "## Visualization\n",
    "\n",
    "Let's select 10 digits."
   ]
  },
  {
   "cell_type": "code",
   "execution_count": 13,
   "metadata": {
    "pycharm": {
     "name": "#%%\n"
    }
   },
   "outputs": [],
   "source": [
    "examples = {}\n",
    "\n",
    "for i, (example, k) in enumerate(zip(x_test, y_test)):\n",
    "    if k not in examples:\n",
    "        examples[k] = x_test[i, :]\n",
    "    if len(examples) == 10:\n",
    "        break"
   ]
  },
  {
   "cell_type": "markdown",
   "metadata": {
    "pycharm": {
     "name": "#%% md\n"
    }
   },
   "source": [
    "Set the number of equivalent runs to compute."
   ]
  },
  {
   "cell_type": "code",
   "execution_count": 14,
   "metadata": {
    "pycharm": {
     "name": "#%%\n"
    }
   },
   "outputs": [],
   "source": [
    "runs = 6\n",
    "runs_per_split = 2"
   ]
  },
  {
   "cell_type": "markdown",
   "metadata": {
    "pycharm": {
     "name": "#%% md\n"
    }
   },
   "source": [
    "### Plot Digits"
   ]
  },
  {
   "cell_type": "code",
   "execution_count": 15,
   "metadata": {
    "pycharm": {
     "name": "#%%\n"
    }
   },
   "outputs": [
    {
     "data": {
      "image/png": "[encoded data removed]",
      "text/plain": [
       "<Figure size 1080x72 with 10 Axes>"
      ]
     },
     "metadata": {
      "needs_background": "light"
     },
     "output_type": "display_data"
    }
   ],
   "source": [
    "plot_examples_in_a_row(examples, 'Greys')\n",
    "plt.savefig('imgs/mnist_normal_digits.png', dpi=600)"
   ]
  },
  {
   "cell_type": "markdown",
   "metadata": {
    "pycharm": {
     "name": "#%% md\n"
    }
   },
   "source": [
    "### Castro (Ground Truth)"
   ]
  },
  {
   "cell_type": "code",
   "execution_count": 16,
   "metadata": {
    "pycharm": {
     "name": "#%%\n"
    }
   },
   "outputs": [
    {
     "name": "stderr",
     "output_type": "stream",
     "text": [
      "100%|██████████| 10/10 [10:36<00:00, 63.64s/it]\n"
     ]
    }
   ],
   "source": [
    "phi_gts = {}\n",
    "\n",
    "for k in tqdm(examples):\n",
    "    example = examples[k]\n",
    "    y_hat = np.argmax(model.predict(example[np.newaxis]))\n",
    "    phi_gt = castro_sam_shap(example, model, y_hat, runs=5000)\n",
    "    phi_gts[k] = phi_gt"
   ]
  },
  {
   "cell_type": "code",
   "execution_count": 17,
   "metadata": {
    "pycharm": {
     "name": "#%%\n"
    }
   },
   "outputs": [
    {
     "data": {
      "image/png": "[encoded data removed]",
      "text/plain": [
       "<Figure size 1080x72 with 10 Axes>"
      ]
     },
     "metadata": {
      "needs_background": "light"
     },
     "output_type": "display_data"
    }
   ],
   "source": [
    "plot_examples_in_a_row(phi_gts)\n",
    "plt.savefig('imgs/mnist_gt_digits.png', dpi=600)"
   ]
  },
  {
   "cell_type": "markdown",
   "metadata": {},
   "source": [
    "### Castro"
   ]
  },
  {
   "cell_type": "code",
   "execution_count": 18,
   "metadata": {},
   "outputs": [
    {
     "name": "stderr",
     "output_type": "stream",
     "text": [
      "100%|██████████| 10/10 [00:17<00:00,  1.76s/it]\n"
     ]
    }
   ],
   "source": [
    "phi_castros = {}\n",
    "\n",
    "for k in tqdm(examples):\n",
    "    example = examples[k]\n",
    "    y_hat = np.argmax(model.predict(example[np.newaxis]))\n",
    "    phi_castro = castro_sam_shap(example, model, y_hat, runs=runs*runs_per_split)\n",
    "    if k in phi_castros:\n",
    "        phi_castros[k] += phi_castro\n",
    "    else:\n",
    "        phi_castros[k] = phi_castro"
   ]
  },
  {
   "cell_type": "code",
   "execution_count": 19,
   "metadata": {
    "pycharm": {
     "name": "#%%\n"
    }
   },
   "outputs": [
    {
     "data": {
      "image/png": "[encoded data removed]",
      "text/plain": [
       "<Figure size 1080x72 with 10 Axes>"
      ]
     },
     "metadata": {
      "needs_background": "light"
     },
     "output_type": "display_data"
    }
   ],
   "source": [
    "plot_examples_in_a_row(phi_castros)\n",
    "plt.savefig('imgs/mnist_castro_digits.png', dpi=600)"
   ]
  },
  {
   "cell_type": "markdown",
   "metadata": {},
   "source": [
    "### Owen"
   ]
  },
  {
   "cell_type": "code",
   "execution_count": 20,
   "metadata": {},
   "outputs": [
    {
     "name": "stderr",
     "output_type": "stream",
     "text": [
      "100%|██████████| 10/10 [00:16<00:00,  1.65s/it]\n"
     ]
    }
   ],
   "source": [
    "phi_owens = {}\n",
    "\n",
    "for k in tqdm(examples):\n",
    "    example = examples[k]\n",
    "    y_hat = np.argmax(model.predict(example[np.newaxis]))\n",
    "    phi_owen = owen_sam_shap(example, model, y_hat, runs=runs_per_split, q_splits=runs)\n",
    "    if k in phi_owens:\n",
    "        phi_owens[k] += phi_owen\n",
    "    else:\n",
    "        phi_owens[k] = phi_owen"
   ]
  },
  {
   "cell_type": "code",
   "execution_count": 21,
   "metadata": {},
   "outputs": [
    {
     "data": {
      "image/png": "[encoded data removed]",
      "text/plain": [
       "<Figure size 1080x72 with 10 Axes>"
      ]
     },
     "metadata": {
      "needs_background": "light"
     },
     "output_type": "display_data"
    }
   ],
   "source": [
    "plot_examples_in_a_row(phi_owens)\n",
    "plt.savefig('imgs/mnist_owen_digits.png', dpi=600)"
   ]
  },
  {
   "cell_type": "markdown",
   "metadata": {
    "pycharm": {
     "name": "#%% md\n"
    }
   },
   "source": [
    "### Owen Halved"
   ]
  },
  {
   "cell_type": "code",
   "execution_count": 22,
   "metadata": {},
   "outputs": [
    {
     "name": "stderr",
     "output_type": "stream",
     "text": [
      "100%|██████████| 10/10 [00:16<00:00,  1.66s/it]\n"
     ]
    }
   ],
   "source": [
    "phi_owen_halveds = {}\n",
    "\n",
    "for k in tqdm(examples):\n",
    "    example = examples[k]\n",
    "    y_hat = np.argmax(model.predict(example[np.newaxis]))\n",
    "    phi_owen_halved = owen_sam_shap_halved(example, model, y_hat, runs=runs_per_split, q_splits=runs)\n",
    "    if k in phi_owen_halveds:\n",
    "        phi_owen_halveds[k] += phi_owen_halved\n",
    "    else:\n",
    "        phi_owen_halveds[k] = phi_owen_halved"
   ]
  },
  {
   "cell_type": "code",
   "execution_count": 23,
   "metadata": {},
   "outputs": [
    {
     "data": {
      "image/png": "[encoded data removed]",
      "text/plain": [
       "<Figure size 1080x72 with 10 Axes>"
      ]
     },
     "metadata": {
      "needs_background": "light"
     },
     "output_type": "display_data"
    }
   ],
   "source": [
    "plot_examples_in_a_row(phi_owen_halveds)\n",
    "plt.savefig('imgs/mnist_owen_halved_digits.png', dpi=600)"
   ]
  }
 ],
 "metadata": {
  "anaconda-cloud": {},
  "coursera": {
   "course_slug": "machine-learning-in-finance"
  },
  "kernelspec": {
   "display_name": "Python 3",
   "language": "python",
   "name": "python3"
  },
  "language_info": {
   "codemirror_mode": {
    "name": "ipython",
    "version": 3
   },
   "file_extension": ".py",
   "mimetype": "text/x-python",
   "name": "python",
   "nbconvert_exporter": "python",
   "pygments_lexer": "ipython3",
   "version": "3.8.5"
  }
 },
 "nbformat": 4,
 "nbformat_minor": 1
}
